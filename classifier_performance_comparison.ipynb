{
 "cells": [
  {
   "cell_type": "markdown",
   "id": "close-vatican",
   "metadata": {},
   "source": [
    "## Evaulating classifier performance. \n",
    "\n",
    "To run this script please first run 'fitting_classifiers.ipynb' to train optimised SVC, LR, RF. This script uses those pre-trained joblib models."
   ]
  },
  {
   "cell_type": "code",
   "execution_count": 1,
   "id": "impressed-tobacco",
   "metadata": {},
   "outputs": [],
   "source": [
    "DATA_DIR = \"../data/\"   \n",
    "DATA = \"CAP\"\n",
    "CLASS_LABEL = 'pca_death_code'  # Target label to predict\n",
    "\n",
    "RANDOM_STATE = 42\n",
    "TEST_SIZE = 0.2\n",
    "\n",
    "CV = 5"
   ]
  },
  {
   "cell_type": "code",
   "execution_count": 2,
   "id": "victorian-emission",
   "metadata": {},
   "outputs": [],
   "source": [
    "import numpy as np\n",
    "import pandas as pd\n",
    "import pickle\n",
    "from joblib import dump, load\n",
    "from collections import Counter\n",
    "\n",
    "import nltk\n",
    "from nltk.stem import WordNetLemmatizer\n",
    "nltk.download('stopwords', quiet=True)\n",
    "nltk.download('wordnet', quiet=True)\n",
    "from nltk.corpus import stopwords\n",
    "\n",
    "from sklearn.model_selection import StratifiedKFold\n",
    "from sklearn.model_selection import train_test_split\n",
    "from sklearn.pipeline import Pipeline\n",
    "from sklearn.metrics import roc_curve, auc, roc_auc_score\n",
    "from sklearn.calibration import CalibratedClassifierCV, calibration_curve\n",
    "from sklearn.metrics import brier_score_loss, precision_score, recall_score, f1_score\n",
    "\n",
    "from helper import (pd_print, \n",
    "                    accuracy,\n",
    "                    lemmatize_text,\n",
    "                    summarise_gridsearch_classifier,\n",
    "                    calibrate_random_forest, \n",
    "                    plot_calibration_curve,\n",
    "                    plot_calibration_curve_easy_hard,\n",
    "                    plot_roc_curve,\n",
    "                    compute_all_metrics)\n",
    "\n",
    "from cap_helper import *"
   ]
  },
  {
   "cell_type": "code",
   "execution_count": 3,
   "id": "mighty-paintball",
   "metadata": {},
   "outputs": [
    {
     "name": "stdout",
     "output_type": "stream",
     "text": [
      "Loading CAP prostate cancer data for preprocessing.\n",
      "Preprocessing complete.\n"
     ]
    }
   ],
   "source": [
    "print(\"Loading CAP prostate cancer data for preprocessing.\")\n",
    "df = load_data(DATA_DIR)\n",
    "# Combine text from all feature columns into a single string column\n",
    "df = concatenate_feature_columns(df)\n",
    "# Link to dates of death:\n",
    "df = add_dates(df, DATA_DIR)\n",
    "# Link to reviewer Ids:\n",
    "df = add_reviewer_ids(df, DATA_DIR)\n",
    "# Convert all dates to be in units of months before/after death (Note: this regex is not foolproof)\n",
    "df = convert_dates_relative(df)  \n",
    "\n",
    "print(\"Preprocessing complete.\")"
   ]
  },
  {
   "cell_type": "code",
   "execution_count": 4,
   "id": "brown-sound",
   "metadata": {},
   "outputs": [],
   "source": [
    "stemmer = WordNetLemmatizer()\n",
    "X,y = df.combined, df[CLASS_LABEL]\n",
    "documents = lemmatize_text(X, stemmer)\n",
    "X_train, X_test, y_train, y_test = train_test_split(documents, \n",
    "                                                    df[CLASS_LABEL], \n",
    "                                                    test_size=TEST_SIZE, \n",
    "                                                    random_state=RANDOM_STATE)\n",
    "\n",
    "X_train = np.array(X_train)\n",
    "y_train = np.array(y_train)"
   ]
  },
  {
   "cell_type": "markdown",
   "id": "broadband-dependence",
   "metadata": {},
   "source": [
    "We extract the same folds that were used in the GridsearchCV optimisation the classifiers (see fitting_classifiers.ipynb), to compute the validation performance for each fold:"
   ]
  },
  {
   "cell_type": "code",
   "execution_count": null,
   "id": "weird-antenna",
   "metadata": {},
   "outputs": [],
   "source": [
    "X_dict = {'test': X_test}\n",
    "y_dict = {'test': y_test}\n",
    "names = ['test']\n",
    "\n",
    "skf = StratifiedKFold(n_splits=CV, random_state=RANDOM_STATE);\n",
    "\n",
    "x_fold_i = {}\n",
    "y_fold_i = {}\n",
    "i = 1\n",
    "\n",
    "for train_index, validation_index in skf.split(X_train, y_train):\n",
    "    \n",
    "    X_dict['fold_%s' % i] = X_train[validation_index]\n",
    "    y_dict['fold_%s' % i] = y_train[validation_index]\n",
    "    names.append('fold_%s' % i)\n",
    "    i += 1"
   ]
  },
  {
   "cell_type": "code",
   "execution_count": 6,
   "id": "resistant-correspondence",
   "metadata": {},
   "outputs": [],
   "source": [
    "clf = {}\n",
    "performance = {}\n",
    "\n",
    "for classifier in ['svc', 'lr', 'rf']:\n",
    "\n",
    "    CLASSIFIER_FILENAME = 'cap_%s_gridsearch.joblib' % classifier\n",
    "    clf[classifier] = load('models/' + CLASSIFIER_FILENAME)\n",
    "    \n",
    "    performance[classifier] = compute_all_metrics(\n",
    "        clf[classifier], X_dict, y_dict, names\n",
    "    )"
   ]
  },
  {
   "cell_type": "code",
   "execution_count": 7,
   "id": "suitable-management",
   "metadata": {},
   "outputs": [],
   "source": [
    "summary_table = pd.DataFrame()\n",
    "summary_table['classifier'] = performance.keys()"
   ]
  },
  {
   "cell_type": "code",
   "execution_count": 8,
   "id": "supported-huntington",
   "metadata": {},
   "outputs": [],
   "source": [
    "from sklearn.metrics import (brier_score_loss, precision_score, \n",
    "                             recall_score, f1_score, confusion_matrix)"
   ]
  },
  {
   "cell_type": "code",
   "execution_count": 9,
   "id": "indoor-gardening",
   "metadata": {},
   "outputs": [],
   "source": [
    "for metric in performance['svc'].metric:\n",
    "    summary_table[metric] = [float(performance[key].loc[performance[key].metric==metric].test) for key in performance.keys()]"
   ]
  },
  {
   "cell_type": "code",
   "execution_count": 10,
   "id": "authentic-tennessee",
   "metadata": {},
   "outputs": [
    {
     "data": {
      "text/html": [
       "<div>\n",
       "<style scoped>\n",
       "    .dataframe tbody tr th:only-of-type {\n",
       "        vertical-align: middle;\n",
       "    }\n",
       "\n",
       "    .dataframe tbody tr th {\n",
       "        vertical-align: top;\n",
       "    }\n",
       "\n",
       "    .dataframe thead th {\n",
       "        text-align: right;\n",
       "    }\n",
       "</style>\n",
       "<table border=\"1\" class=\"dataframe\">\n",
       "  <thead>\n",
       "    <tr style=\"text-align: right;\">\n",
       "      <th></th>\n",
       "      <th>classifier</th>\n",
       "      <th>AUC</th>\n",
       "      <th>Accuracy</th>\n",
       "      <th>Precision</th>\n",
       "      <th>Recall</th>\n",
       "      <th>F1</th>\n",
       "      <th>Sensitivity</th>\n",
       "      <th>Specificity</th>\n",
       "      <th>FP/FN ratio</th>\n",
       "    </tr>\n",
       "  </thead>\n",
       "  <tbody>\n",
       "    <tr>\n",
       "      <th>0</th>\n",
       "      <td>svc</td>\n",
       "      <td>0.974893</td>\n",
       "      <td>91.570881</td>\n",
       "      <td>0.937908</td>\n",
       "      <td>0.919872</td>\n",
       "      <td>0.928803</td>\n",
       "      <td>0.919872</td>\n",
       "      <td>0.909524</td>\n",
       "      <td>0.760000</td>\n",
       "    </tr>\n",
       "    <tr>\n",
       "      <th>1</th>\n",
       "      <td>lr</td>\n",
       "      <td>0.973275</td>\n",
       "      <td>90.229885</td>\n",
       "      <td>0.919614</td>\n",
       "      <td>0.916667</td>\n",
       "      <td>0.918138</td>\n",
       "      <td>0.916667</td>\n",
       "      <td>0.880952</td>\n",
       "      <td>0.961538</td>\n",
       "    </tr>\n",
       "    <tr>\n",
       "      <th>2</th>\n",
       "      <td>rf</td>\n",
       "      <td>0.973107</td>\n",
       "      <td>91.762452</td>\n",
       "      <td>0.932476</td>\n",
       "      <td>0.929487</td>\n",
       "      <td>0.930979</td>\n",
       "      <td>0.929487</td>\n",
       "      <td>0.900000</td>\n",
       "      <td>0.954545</td>\n",
       "    </tr>\n",
       "  </tbody>\n",
       "</table>\n",
       "</div>"
      ],
      "text/plain": [
       "  classifier       AUC   Accuracy  Precision    Recall        F1  Sensitivity  \\\n",
       "0        svc  0.974893  91.570881   0.937908  0.919872  0.928803     0.919872   \n",
       "1         lr  0.973275  90.229885   0.919614  0.916667  0.918138     0.916667   \n",
       "2         rf  0.973107  91.762452   0.932476  0.929487  0.930979     0.929487   \n",
       "\n",
       "   Specificity  FP/FN ratio  \n",
       "0     0.909524     0.760000  \n",
       "1     0.880952     0.961538  \n",
       "2     0.900000     0.954545  "
      ]
     },
     "execution_count": 10,
     "metadata": {},
     "output_type": "execute_result"
    }
   ],
   "source": [
    "summary_table"
   ]
  },
  {
   "cell_type": "markdown",
   "id": "similar-accommodation",
   "metadata": {},
   "source": [
    "#### We now produce the ROC curve for the random forest for each training fold and the test set:"
   ]
  },
  {
   "cell_type": "code",
   "execution_count": 11,
   "id": "suspended-quest",
   "metadata": {},
   "outputs": [],
   "source": [
    "CLASSIFIER_FILENAME = 'cap_rf_gridsearch.joblib' \n",
    "\n",
    "clf_dict = {\n",
    "    name: load('models/' + CLASSIFIER_FILENAME) \n",
    "    for name in names\n",
    "}"
   ]
  },
  {
   "cell_type": "code",
   "execution_count": 12,
   "id": "celtic-simon",
   "metadata": {},
   "outputs": [
    {
     "data": {
      "image/png": "[encoded data removed]",
      "text/plain": [
       "<Figure size 504x360 with 1 Axes>"
      ]
     },
     "metadata": {
      "needs_background": "light"
     },
     "output_type": "display_data"
    }
   ],
   "source": [
    "plot_roc_curve(clf_dict, X_dict, y_dict, names, save_name='roc_5folds.jpg')"
   ]
  },
  {
   "cell_type": "markdown",
   "id": "directed-uniform",
   "metadata": {},
   "source": [
    "#### We now produce and ROC curve for the three classifiers to compare performance on the training set:"
   ]
  },
  {
   "cell_type": "code",
   "execution_count": 13,
   "id": "fancy-collins",
   "metadata": {},
   "outputs": [],
   "source": [
    "names = ['svc', 'lr', 'rf']\n",
    "\n",
    "X_dict = {}\n",
    "y_dict = {}\n",
    "\n",
    "for name in names:\n",
    "    X_dict[name] = X_test\n",
    "    y_dict[name] = y_test\n",
    "\n",
    "clf_dict = {\n",
    "    name: load('models/cap_%s_gridsearch.joblib' % name) \n",
    "    for name in names\n",
    "}"
   ]
  },
  {
   "cell_type": "code",
   "execution_count": 14,
   "id": "complimentary-retrieval",
   "metadata": {},
   "outputs": [
    {
     "data": {
      "image/png": "[encoded data removed]",
      "text/plain": [
       "<Figure size 504x360 with 1 Axes>"
      ]
     },
     "metadata": {
      "needs_background": "light"
     },
     "output_type": "display_data"
    }
   ],
   "source": [
    "plot_roc_curve(clf_dict, X_dict, y_dict, names, save_name='roc_3clf.jpg')"
   ]
  },
  {
   "cell_type": "markdown",
   "id": "dominant-guess",
   "metadata": {},
   "source": [
    "#### We now compare the word frequencies in our test and training set. And compare these with a benchmark datset from this domain (CHEMPROT https://pubmed.ncbi.nlm.nih.gov/20935044/)."
   ]
  },
  {
   "cell_type": "code",
   "execution_count": 39,
   "id": "verified-beatles",
   "metadata": {},
   "outputs": [],
   "source": [
    "from matplotlib_venn import venn2, venn2_circles\n",
    "import matplotlib.pyplot as plt"
   ]
  },
  {
   "cell_type": "code",
   "execution_count": 15,
   "id": "beautiful-motivation",
   "metadata": {},
   "outputs": [
    {
     "data": {
      "text/plain": [
       "1020"
      ]
     },
     "execution_count": 15,
     "metadata": {},
     "output_type": "execute_result"
    }
   ],
   "source": [
    "chemprot = pd.read_csv(\n",
    "    DATA_DIR + '/ChemProt_Corpus/chemprot_training/chemprot_training/chemprot_training_abstracts.tsv',\n",
    "    delimiter='\\t',\n",
    "    names=['id', 'title', 'abstract']\n",
    ")       \n",
    "chemprot_lemmatized = lemmatize_text(chemprot.abstract, stemmer)\n",
    "len(chemprot_lemmatized)"
   ]
  },
  {
   "cell_type": "code",
   "execution_count": 16,
   "id": "perfect-conflict",
   "metadata": {},
   "outputs": [],
   "source": [
    "def get_word_freqs(document):\n",
    "    freqs = pd.DataFrame.from_dict(Counter(' '.join(document).split()), \n",
    "                                         orient='index',\n",
    "                                         columns=['counts'])\n",
    "\n",
    "    freqs['freq'] = freqs.counts / sum(freqs.counts)\n",
    "    freqs.sort_values('freq', ascending=False, inplace=True)\n",
    "    return freqs"
   ]
  },
  {
   "cell_type": "code",
   "execution_count": 17,
   "id": "pacific-identification",
   "metadata": {},
   "outputs": [
    {
     "data": {
      "text/html": [
       "<div>\n",
       "<style scoped>\n",
       "    .dataframe tbody tr th:only-of-type {\n",
       "        vertical-align: middle;\n",
       "    }\n",
       "\n",
       "    .dataframe tbody tr th {\n",
       "        vertical-align: top;\n",
       "    }\n",
       "\n",
       "    .dataframe thead th {\n",
       "        text-align: right;\n",
       "    }\n",
       "</style>\n",
       "<table border=\"1\" class=\"dataframe\">\n",
       "  <thead>\n",
       "    <tr style=\"text-align: right;\">\n",
       "      <th></th>\n",
       "      <th>counts</th>\n",
       "      <th>freq</th>\n",
       "    </tr>\n",
       "  </thead>\n",
       "  <tbody>\n",
       "    <tr>\n",
       "      <th>the</th>\n",
       "      <td>10979</td>\n",
       "      <td>0.048768</td>\n",
       "    </tr>\n",
       "    <tr>\n",
       "      <th>of</th>\n",
       "      <td>9558</td>\n",
       "      <td>0.042456</td>\n",
       "    </tr>\n",
       "    <tr>\n",
       "      <th>and</th>\n",
       "      <td>8104</td>\n",
       "      <td>0.035998</td>\n",
       "    </tr>\n",
       "    <tr>\n",
       "      <th>in</th>\n",
       "      <td>6760</td>\n",
       "      <td>0.030028</td>\n",
       "    </tr>\n",
       "    <tr>\n",
       "      <th>to</th>\n",
       "      <td>3757</td>\n",
       "      <td>0.016688</td>\n",
       "    </tr>\n",
       "  </tbody>\n",
       "</table>\n",
       "</div>"
      ],
      "text/plain": [
       "     counts      freq\n",
       "the   10979  0.048768\n",
       "of     9558  0.042456\n",
       "and    8104  0.035998\n",
       "in     6760  0.030028\n",
       "to     3757  0.016688"
      ]
     },
     "execution_count": 17,
     "metadata": {},
     "output_type": "execute_result"
    }
   ],
   "source": [
    "chemprot_counts = get_word_freqs(chemprot_lemmatized)\n",
    "chemprot_counts.head()"
   ]
  },
  {
   "cell_type": "code",
   "execution_count": 18,
   "id": "intelligent-adjustment",
   "metadata": {},
   "outputs": [],
   "source": [
    "x_train_counts = get_word_freqs(X_train)\n",
    "x_test_counts = get_word_freqs(X_test)"
   ]
  },
  {
   "cell_type": "code",
   "execution_count": 30,
   "id": "further-instrumentation",
   "metadata": {},
   "outputs": [
    {
     "name": "stdout",
     "output_type": "stream",
     "text": [
      "6079\n",
      "7439\n",
      "13123\n"
     ]
    }
   ],
   "source": [
    "print(len(set(x_test_counts.index).intersection(x_train_counts.index)))\n",
    "print(len(x_test_counts.index))\n",
    "print(len(x_train_counts.index))"
   ]
  },
  {
   "cell_type": "code",
   "execution_count": 42,
   "id": "finnish-scanner",
   "metadata": {},
   "outputs": [
    {
     "data": {
      "image/png": "[encoded data removed]",
      "text/plain": [
       "<Figure size 432x288 with 1 Axes>"
      ]
     },
     "metadata": {},
     "output_type": "display_data"
    }
   ],
   "source": [
    "venn2(subsets=[\n",
    "    len(set(x_train_counts.index).difference(x_test_counts.index)),\n",
    "    len(set(x_test_counts.index).difference(x_train_counts.index)),\n",
    "    len(set(x_test_counts.index).intersection(x_train_counts.index))],\n",
    "    set_labels=('Train', 'Test')  \n",
    ");\n",
    "plt.tight_layout()\n",
    "plt.savefig('venn_train_test.jpg', dpi=300)"
   ]
  },
  {
   "cell_type": "code",
   "execution_count": 20,
   "id": "sporting-information",
   "metadata": {},
   "outputs": [
    {
     "name": "stdout",
     "output_type": "stream",
     "text": [
      "4655\n",
      "15623\n",
      "13123\n"
     ]
    }
   ],
   "source": [
    "print(len(set(chemprot_counts.index).intersection(x_train_counts.index)))\n",
    "print(len(chemprot_counts.index))\n",
    "print(len(x_train_counts.index))"
   ]
  },
  {
   "cell_type": "code",
   "execution_count": 45,
   "id": "noted-attack",
   "metadata": {},
   "outputs": [
    {
     "data": {
      "image/png": "[encoded data removed]",
      "text/plain": [
       "<Figure size 432x288 with 1 Axes>"
      ]
     },
     "metadata": {},
     "output_type": "display_data"
    }
   ],
   "source": [
    "venn2(subsets=[\n",
    "    len(set(x_train_counts.index).difference(chemprot_counts.index)),\n",
    "    len(set(chemprot_counts.index).difference(x_train_counts.index)),\n",
    "    len(set(chemprot_counts.index).intersection(x_train_counts.index))],\n",
    "    set_labels=('Train', 'CHEMPROT')  \n",
    ");\n",
    "plt.tight_layout()\n",
    "plt.savefig('venn_train_chemprot.jpg', dpi=300)"
   ]
  },
  {
   "cell_type": "code",
   "execution_count": 22,
   "id": "difficult-traffic",
   "metadata": {},
   "outputs": [
    {
     "data": {
      "text/html": [
       "<div>\n",
       "<style scoped>\n",
       "    .dataframe tbody tr th:only-of-type {\n",
       "        vertical-align: middle;\n",
       "    }\n",
       "\n",
       "    .dataframe tbody tr th {\n",
       "        vertical-align: top;\n",
       "    }\n",
       "\n",
       "    .dataframe thead th {\n",
       "        text-align: right;\n",
       "    }\n",
       "</style>\n",
       "<table border=\"1\" class=\"dataframe\">\n",
       "  <thead>\n",
       "    <tr style=\"text-align: right;\">\n",
       "      <th></th>\n",
       "      <th>counts</th>\n",
       "      <th>freq</th>\n",
       "    </tr>\n",
       "  </thead>\n",
       "  <tbody>\n",
       "    <tr>\n",
       "      <th>metastic</th>\n",
       "      <td>4</td>\n",
       "      <td>0.000023</td>\n",
       "    </tr>\n",
       "    <tr>\n",
       "      <th>myasthenia</th>\n",
       "      <td>4</td>\n",
       "      <td>0.000023</td>\n",
       "    </tr>\n",
       "    <tr>\n",
       "      <th>downstairs</th>\n",
       "      <td>4</td>\n",
       "      <td>0.000023</td>\n",
       "    </tr>\n",
       "    <tr>\n",
       "      <th>cytarabine</th>\n",
       "      <td>4</td>\n",
       "      <td>0.000023</td>\n",
       "    </tr>\n",
       "    <tr>\n",
       "      <th>assault</th>\n",
       "      <td>3</td>\n",
       "      <td>0.000017</td>\n",
       "    </tr>\n",
       "    <tr>\n",
       "      <th>...</th>\n",
       "      <td>...</td>\n",
       "      <td>...</td>\n",
       "    </tr>\n",
       "    <tr>\n",
       "      <th>msec</th>\n",
       "      <td>1</td>\n",
       "      <td>0.000006</td>\n",
       "    </tr>\n",
       "    <tr>\n",
       "      <th>hugely</th>\n",
       "      <td>1</td>\n",
       "      <td>0.000006</td>\n",
       "    </tr>\n",
       "    <tr>\n",
       "      <th>gencitabine</th>\n",
       "      <td>1</td>\n",
       "      <td>0.000006</td>\n",
       "    </tr>\n",
       "    <tr>\n",
       "      <th>upto</th>\n",
       "      <td>1</td>\n",
       "      <td>0.000006</td>\n",
       "    </tr>\n",
       "    <tr>\n",
       "      <th>182ng</th>\n",
       "      <td>1</td>\n",
       "      <td>0.000006</td>\n",
       "    </tr>\n",
       "  </tbody>\n",
       "</table>\n",
       "<p>1360 rows × 2 columns</p>\n",
       "</div>"
      ],
      "text/plain": [
       "             counts      freq\n",
       "metastic          4  0.000023\n",
       "myasthenia        4  0.000023\n",
       "downstairs        4  0.000023\n",
       "cytarabine        4  0.000023\n",
       "assault           3  0.000017\n",
       "...             ...       ...\n",
       "msec              1  0.000006\n",
       "hugely            1  0.000006\n",
       "gencitabine       1  0.000006\n",
       "upto              1  0.000006\n",
       "182ng             1  0.000006\n",
       "\n",
       "[1360 rows x 2 columns]"
      ]
     },
     "execution_count": 22,
     "metadata": {},
     "output_type": "execute_result"
    }
   ],
   "source": [
    "x_test_counts.loc[set(x_test_counts.index).difference(x_train_counts.index)].sort_values('freq', ascending=False)"
   ]
  },
  {
   "cell_type": "code",
   "execution_count": null,
   "id": "artistic-buying",
   "metadata": {},
   "outputs": [],
   "source": []
  }
 ],
 "metadata": {
  "kernelspec": {
   "display_name": "Python 3",
   "language": "python",
   "name": "python3"
  },
  "language_info": {
   "codemirror_mode": {
    "name": "ipython",
    "version": 3
   },
   "file_extension": ".py",
   "mimetype": "text/x-python",
   "name": "python",
   "nbconvert_exporter": "python",
   "pygments_lexer": "ipython3",
   "version": "3.8.5"
  }
 },
 "nbformat": 4,
 "nbformat_minor": 5
}
